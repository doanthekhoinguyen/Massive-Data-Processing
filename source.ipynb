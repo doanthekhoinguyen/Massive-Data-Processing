{
  "cells": [
    {
      "cell_type": "markdown",
      "metadata": {
        "id": "k5Kl4LZvxO2x"
      },
      "source": [
        "# Massive Mining Datasets - Final Project"
      ]
    },
    {
      "cell_type": "markdown",
      "source": [],
      "metadata": {
        "id": "6uK0bG_PdUGT"
      }
    },
    {
      "cell_type": "code",
      "execution_count": null,
      "metadata": {
        "id": "iva1iihKycCg"
      },
      "outputs": [],
      "source": [
        "!apt-get install openjdk-8-jdk-headless -qq > /dev/null\n",
        "!wget -q http://archive.apache.org/dist/spark/spark-3.1.1/spark-3.1.1-bin-hadoop3.2.tgz\n",
        "!tar xf spark-3.1.1-bin-hadoop3.2.tgz\n",
        "!pip install -q findspark"
      ]
    },
    {
      "cell_type": "code",
      "execution_count": null,
      "metadata": {
        "id": "WvIIgNMiyrC5"
      },
      "outputs": [],
      "source": [
        "import os\n",
        "os.environ[\"JAVA_HOME\"] = \"/usr/lib/jvm/java-8-openjdk-amd64\"\n",
        "os.environ[\"SPARK_HOME\"] = \"/content/spark-3.1.1-bin-hadoop3.2\"\n",
        "\n",
        "import findspark\n",
        "findspark.init()"
      ]
    },
    {
      "cell_type": "code",
      "execution_count": null,
      "metadata": {
        "colab": {
          "base_uri": "https://localhost:8080/"
        },
        "id": "ODmdEIX8yrj8",
        "outputId": "c37afdab-72e8-41d7-ca89-66cfd4b7ab1c"
      },
      "outputs": [
        {
          "output_type": "stream",
          "name": "stdout",
          "text": [
            "Mounted at /content/drive\n"
          ]
        }
      ],
      "source": [
        "from google.colab import drive\n",
        "drive.mount('/content/drive')"
      ]
    },
    {
      "cell_type": "code",
      "execution_count": null,
      "metadata": {
        "id": "cOOvKk9k0Gr8"
      },
      "outputs": [],
      "source": [
        "from pyspark import SparkContext\n",
        "from pyspark.sql import SQLContext\n",
        "from pyspark.sql.types import IntegerType, DoubleType, DateType, StructType, StructField, StringType\n",
        "from pyspark.sql.functions import col\n",
        "sc = SparkContext(\"local\", 'FINAL')\n",
        "sqlc = SQLContext(sc)"
      ]
    },
    {
      "cell_type": "code",
      "execution_count": null,
      "metadata": {
        "id": "DnbtYAI00qeU"
      },
      "outputs": [],
      "source": [
        "from pyspark.sql import SparkSession\n",
        "spark = SparkSession.builder.master(\"local\").appName(\"Final Project\").getOrCreate()"
      ]
    },
    {
      "cell_type": "code",
      "execution_count": null,
      "metadata": {
        "id": "Yp_N6wA8ulAR"
      },
      "outputs": [],
      "source": [
        "MNIST_SMALL_TEST = \"/content/drive/MyDrive/MMD Final/Dataset/mnist_small_test.csv\"\n",
        "MNIST_SMALL_TRAIN = \"/content/drive/MyDrive/MMD Final/Dataset/mnist_small_train.csv\"\n",
        "RATINGS2K=\"/content/drive/MyDrive/MMD Final/Dataset/ratings2k.csv\"\n",
        "STOCKHVN2022=\"/content/drive/MyDrive/MMD Final/Dataset/stockHVN2022.csv\""
      ]
    },
    {
      "cell_type": "markdown",
      "metadata": {
        "id": "j_a5qwBOyGeN"
      },
      "source": [
        "## Task 1 - Clustering"
      ]
    },
    {
      "cell_type": "markdown",
      "metadata": {
        "id": "KLaa8nWpxEDJ"
      },
      "source": [
        " YC1_1: Illustration\n",
        "\n"
      ]
    },
    {
      "cell_type": "code",
      "execution_count": null,
      "metadata": {
        "colab": {
          "base_uri": "https://localhost:8080/"
        },
        "id": "CD5Aw9TAwQw9",
        "outputId": "dd72c663-0834-4201-e5f4-749aab613c80"
      },
      "outputs": [
        {
          "output_type": "display_data",
          "data": {
            "text/plain": [
              "<Figure size 1000x500 with 15 Axes>"
            ],
            "image/png": "[encoded data removed]"
          },
          "metadata": {}
        }
      ],
      "source": [
        "data = spark.read.csv(MNIST_SMALL_TEST, header=False, inferSchema=True)\n",
        "import numpy as np\n",
        "import matplotlib.pyplot as plt\n",
        "#hàm chuyển đổi dòng dữ liệu thành ma trận 28x28\n",
        "def row_to_matrix(row):\n",
        "    return np.array(row[1:]).reshape(28, 28)\n",
        "\n",
        "# Lấy 15 hàng đầu tiên\n",
        "first_15_rows = data.take(15)\n",
        "\n",
        "# Vẽ biểu đồ 3x5 ô hiển thị 15 bức ảnh đầu tiên\n",
        "fig, axes = plt.subplots(3, 5, figsize=(10, 5))\n",
        "\n",
        "for i, row in enumerate(first_15_rows):\n",
        "    ax = axes[i // 5, i % 5]\n",
        "    ax.imshow(row_to_matrix(row), cmap='gray')\n",
        "    ax.set_title(f\"{row[0]}\")\n",
        "    ax.axis('off')\n",
        "\n",
        "plt.tight_layout()\n",
        "plt.show()"
      ]
    },
    {
      "cell_type": "markdown",
      "metadata": {
        "id": "sy1QP5m0zAio"
      },
      "source": [
        "YC2_2: Clustering"
      ]
    },
    {
      "cell_type": "code",
      "execution_count": null,
      "metadata": {
        "colab": {
          "base_uri": "https://localhost:8080/"
        },
        "id": "-zObtjAv68qU",
        "outputId": "e157603c-8cd5-40f9-aab4-25782d46cc88"
      },
      "outputs": [
        {
          "output_type": "stream",
          "name": "stdout",
          "text": [
            "Sum of Euclidean distances for each cluster with k = 5:\n",
            "Cluster 0: 1174291.4842529297\n",
            "Cluster 1: 913983.9670410156\n",
            "Cluster 2: 516611.9432373047\n",
            "Cluster 3: 1420087.7631835938\n",
            "Cluster 4: 933149.6513671875\n",
            "Sum of Euclidean distances for each cluster with k = 10:\n",
            "Cluster 0: 706570.1539306641\n",
            "Cluster 1: 490103.20666503906\n",
            "Cluster 2: 432860.97509765625\n",
            "Cluster 3: 693041.939453125\n",
            "Cluster 4: 462357.0587158203\n",
            "Cluster 5: 346020.3435058594\n",
            "Cluster 6: 252442.7745361328\n",
            "Cluster 7: 307264.5100097656\n",
            "Cluster 8: 548843.4176025391\n",
            "Cluster 9: 445594.8786621094\n",
            "Sum of Euclidean distances for each cluster with k = 15:\n",
            "Cluster 0: 343654.95166015625\n",
            "Cluster 1: 304221.66442871094\n",
            "Cluster 2: 372659.5764160156\n",
            "Cluster 3: 285011.9180908203\n",
            "Cluster 4: 286265.71911621094\n",
            "Cluster 5: 214216.84411621094\n",
            "Cluster 6: 242486.7515258789\n",
            "Cluster 7: 253824.81036376953\n",
            "Cluster 8: 236107.05810546875\n",
            "Cluster 9: 251174.2205810547\n",
            "Cluster 10: 389579.6104736328\n",
            "Cluster 11: 362829.6475830078\n",
            "Cluster 12: 476429.80993652344\n",
            "Cluster 13: 240433.90014648438\n",
            "Cluster 14: 220735.56494140625\n"
          ]
        }
      ],
      "source": [
        "from pyspark.ml.feature import VectorAssembler\n",
        "from pyspark.ml.clustering import KMeans, KMeansModel\n",
        "from pyspark.sql.functions import col\n",
        "from pyspark.sql.functions import udf\n",
        "from pyspark.sql.types import FloatType\n",
        "\n",
        "k_values = [5, 10, 15]\n",
        "models = []\n",
        "sum_distances_by_cluster = []\n",
        "\n",
        "\n",
        "# Assemble the feature columns into a single feature vector\n",
        "assembler = VectorAssembler(inputCols=data.columns[1:], outputCol=\"features\")\n",
        "feature_data = assembler.transform(data)\n",
        "\n",
        "for k in k_values:\n",
        "    # Initialize the KMeans model\n",
        "    kmeans = KMeans(k=k, seed=1, featuresCol=\"features\", predictionCol=\"cluster\")\n",
        "\n",
        "    model = kmeans.fit(feature_data)\n",
        "\n",
        "    # Save the model\n",
        "    model.write().overwrite().save(f\"/content/drive/MyDrive/MMD Final/Models/KMeans_k{k}\")\n",
        "\n",
        "    # Load the model\n",
        "    loaded_model = KMeansModel.load(f\"/content/drive/MyDrive/MMD Final/Models/KMeans_k{k}\")\n",
        "\n",
        "    # Transform data\n",
        "    transformed_data = loaded_model.transform(feature_data)\n",
        "\n",
        "    centroids = loaded_model.clusterCenters()\n",
        "\n",
        "    #Euclidean distance between two points\n",
        "    def euclidean_distance(a, b):\n",
        "        return float(np.sqrt(np.sum((a - b) ** 2)))\n",
        "\n",
        "    # Euclidean distance from each data point to its centroid\n",
        "    def distance_to_centroid(point, cluster):\n",
        "        centroid = centroids[cluster]\n",
        "        return euclidean_distance(point, centroid)\n",
        "\n",
        "    distance_udf = udf(distance_to_centroid, FloatType())\n",
        "\n",
        "\n",
        "    # Group by cluster and calculate the sum of Euclidean distances for each cluster\n",
        "    sum_distances_each_cluster = transformed_data.withColumn(\"distance\", distance_udf(col(\"features\"), col(\"cluster\"))).groupBy(\"cluster\").agg({\"distance\": \"sum\"}).collect()\n",
        "\n",
        "    sum_distances_by_cluster.append(sum_distances_each_cluster)\n",
        "\n",
        "    # Print the sum of Euclidean distances for each cluster\n",
        "    print(f\"Sum of Euclidean distances for each cluster with k = {k}:\")\n",
        "    for cluster, row in enumerate(sum_distances_each_cluster):\n",
        "        print(f\"Cluster {cluster}: {row['sum(distance)']}\")\n",
        "\n",
        "    models.append(loaded_model)\n"
      ]
    },
    {
      "cell_type": "markdown",
      "metadata": {
        "id": "jG8VexnoszT5"
      },
      "source": [
        "YC1_3: Result Visualization"
      ]
    },
    {
      "cell_type": "code",
      "execution_count": null,
      "metadata": {
        "colab": {
          "base_uri": "https://localhost:8080/"
        },
        "id": "gp0q_rNxlZSk",
        "outputId": "952cb4a5-dd46-4c1a-d69b-bf01b0661be9"
      },
      "outputs": [
        {
          "output_type": "display_data",
          "data": {
            "text/plain": [
              "<Figure size 800x1200 with 3 Axes>"
            ],
            "image/png": "[encoded data removed]"
          },
          "metadata": {}
        }
      ],
      "source": [
        "\n",
        "fig, axes = plt.subplots(3, 1, figsize=(8, 12))\n",
        "\n",
        "for i, k in enumerate(k_values):\n",
        "    sum_distances_each_cluster = sum_distances_by_cluster[i]\n",
        "    cluster_labels = [row[\"cluster\"] for row in sum_distances_each_cluster]\n",
        "    cluster_distances = [row[\"sum(distance)\"] for row in sum_distances_each_cluster]\n",
        "\n",
        "    axes[i].bar(cluster_labels, cluster_distances)\n",
        "    axes[i].set_xlabel(\"Cluster\")\n",
        "    axes[i].set_ylabel(\"Sum of Euclidean distances\")\n",
        "    axes[i].set_title(f\"Sum of Euclidean distances from each data point to its centroid corresponding with  k = {k}\")\n",
        "    axes[i].set_xticks(cluster_labels)\n",
        "\n",
        "plt.tight_layout()\n",
        "plt.show()"
      ]
    },
    {
      "cell_type": "markdown",
      "metadata": {
        "id": "tfimc2N-XEQq"
      },
      "source": [
        "## Task 2 - Dimensionality Reduction"
      ]
    },
    {
      "cell_type": "markdown",
      "metadata": {
        "id": "Q9Sr5RsNGoQn"
      },
      "source": [
        "\n",
        "\n",
        "Reuduce dimension Mnist Train\n",
        "\n"
      ]
    },
    {
      "cell_type": "code",
      "execution_count": null,
      "metadata": {
        "id": "Gjcui4fHMEbw"
      },
      "outputs": [],
      "source": [
        "from pyspark import SparkContext\n",
        "import numpy as np\n",
        "from scipy.linalg import svd\n",
        "import pandas as pd\n",
        "\n",
        "sc = SparkContext.getOrCreate()\n",
        "rdd = sc.textFile(MNIST_SMALL_TRAIN)\n",
        "\n",
        "def parse_row(row):\n",
        "    return row.split(\",\")\n",
        "\n",
        "rdd_parsed = rdd.map(lambda row: parse_row(row))\n",
        "mnist_data_list_train= rdd_parsed.collect()\n"
      ]
    },
    {
      "cell_type": "code",
      "execution_count": null,
      "metadata": {
        "colab": {
          "base_uri": "https://localhost:8080/"
        },
        "id": "T-j0bOkrMJFk",
        "outputId": "2a9b5f6f-9602-4772-f04b-da78d1c548eb"
      },
      "outputs": [
        {
          "output_type": "execute_result",
          "data": {
            "text/plain": [
              "array([[ 1.05500532e+03, -2.48244718e+02,  5.98132258e+02, ...,\n",
              "        -6.20233281e+00,  1.63643799e+01, -1.37062359e+01],\n",
              "       [ 1.39300403e+03,  1.33681947e+02, -1.01833220e+03, ...,\n",
              "        -5.60301088e+00,  8.28379688e+00, -2.61101310e+01],\n",
              "       [ 6.48809758e+02, -5.49281895e+02, -4.87342624e+02, ...,\n",
              "         9.59678610e-01,  6.69134743e+01, -4.95046382e+00],\n",
              "       ...,\n",
              "       [ 1.36860863e+03, -8.04714173e+02, -1.10261574e+02, ...,\n",
              "         1.91372456e+01,  2.69083480e+01,  1.95848523e+01],\n",
              "       [ 1.66156690e+03, -5.47111909e+02,  6.43050432e+02, ...,\n",
              "        -3.93830726e+01,  4.21580373e+01, -1.53021308e+01],\n",
              "       [ 1.28479566e+03, -7.81550433e+02,  1.31658866e+02, ...,\n",
              "         3.35741604e+00,  2.88577280e+00, -8.79598123e+00]])"
            ]
          },
          "metadata": {},
          "execution_count": 11
        }
      ],
      "source": [
        "# Chọn số chiều r\n",
        "r = 196\n",
        "\n",
        "mnist_labels = [row[0] for row in mnist_data_list_train]  # giử label của các chữ số\n",
        "mnist_image_vectors = [row[1:] for row in mnist_data_list_train]  # Lấy vector ảnh\n",
        "\n",
        "# U, S, V_T\n",
        "U, S, V_T = svd(np.asmatrix(mnist_image_vectors, dtype=int), full_matrices=False)\n",
        "S = np.diag(S)\n",
        "\n",
        "mnist_image_vector_matrix_approx = U[:, :r] @ S[:r, :r]\n",
        "mnist_image_vector_matrix_approx"
      ]
    },
    {
      "cell_type": "code",
      "execution_count": null,
      "metadata": {
        "colab": {
          "base_uri": "https://localhost:8080/"
        },
        "id": "s-yXthGtMRYc",
        "outputId": "e054baf8-53d3-4560-e9e2-90d37f8351f1"
      },
      "outputs": [
        {
          "output_type": "stream",
          "name": "stdout",
          "text": [
            "Kích thước ma trận sau khi giảm chiều: (7000, 196)\n"
          ]
        }
      ],
      "source": [
        "print(\"Kích thước ma trận sau khi giảm chiều:\", mnist_image_vector_matrix_approx.shape)\n"
      ]
    },
    {
      "cell_type": "code",
      "execution_count": null,
      "metadata": {
        "id": "e27wmV1EMNtH"
      },
      "outputs": [],
      "source": [
        "# Kết hợp nhãn với dữ liệu ảnh đã giảm chiều\n",
        "reduced_data = np.column_stack((mnist_labels, mnist_image_vector_matrix_approx))\n",
        "\n",
        "\n",
        "# Lưu dữ liệu đã giảm chiều vào tệp CSV\n",
        "df = pd.DataFrame(reduced_data)\n",
        "df.to_csv('/content/drive/MyDrive/MMD Final/Dataset/mnist_small_train_svd.csv'.format(r), index=False)\n",
        "\n"
      ]
    },
    {
      "cell_type": "code",
      "execution_count": null,
      "metadata": {
        "colab": {
          "base_uri": "https://localhost:8080/"
        },
        "id": "3Q-YWkDcQlpF",
        "outputId": "6b238453-9bd6-475e-b595-4562a9c128d8"
      },
      "outputs": [
        {
          "output_type": "display_data",
          "data": {
            "text/plain": [
              "<Figure size 1000x500 with 15 Axes>"
            ],
            "image/png": "[encoded data removed]"
          },
          "metadata": {}
        }
      ],
      "source": [
        "# Đọc dữ liệu từ tệp CSV đã giảm chiều\n",
        "reduced_data = pd.read_csv('/content/drive/MyDrive/MMD Final/Dataset/mnist_small_train_svd.csv')\n",
        "reduced_images = reduced_data.iloc[:, 1:].values\n",
        "\n",
        "# Tái cấu trúc dữ liệu từ dữ liệu đã giảm chiều\n",
        "reconstructed_data_from_csv = reduced_images @ V_T[:r, :]\n",
        "\n",
        "# Lấy 15 hàng đầu tiên từ dữ liệu tái cấu trúc từ file CSV\n",
        "first_15_rows_reconstructed_from_csv = reconstructed_data_from_csv[:15]\n",
        "\n",
        "# Vẽ biểu đồ 3x5 ô hiển thị 15 bức ảnh đầu tiên từ dữ liệu tái cấu trúc từ file CSV\n",
        "fig, axes = plt.subplots(3, 5, figsize=(10, 5))\n",
        "\n",
        "for i, row in enumerate(first_15_rows_reconstructed_from_csv):\n",
        "    ax = axes[i // 5, i % 5]\n",
        "    ax.imshow(row.reshape(28, 28), cmap='gray')\n",
        "    ax.set_title(f\"Label: {reduced_data.iloc[i, 0]}\")\n",
        "    ax.axis('off')\n",
        "\n",
        "plt.tight_layout()\n",
        "plt.show()\n"
      ]
    },
    {
      "cell_type": "markdown",
      "metadata": {
        "id": "y4n-RS8xH9PK"
      },
      "source": [
        "Reuduce dimension Mnist Test\n"
      ]
    },
    {
      "cell_type": "code",
      "execution_count": null,
      "metadata": {
        "id": "xuuNxGSJIKWY"
      },
      "outputs": [],
      "source": [
        "rdd = sc.textFile(MNIST_SMALL_TEST)\n",
        "\n",
        "def parse_row(row):\n",
        "    return row.split(\",\")\n",
        "\n",
        "rdd_parsed = rdd.map(lambda row: parse_row(row))\n",
        "mnist_data_list_test= rdd_parsed.collect()"
      ]
    },
    {
      "cell_type": "code",
      "execution_count": null,
      "metadata": {
        "colab": {
          "base_uri": "https://localhost:8080/"
        },
        "id": "ubWqMT4-I-KD",
        "outputId": "a3713efd-2ba6-4da9-a75d-9cffed3f3071"
      },
      "outputs": [
        {
          "output_type": "execute_result",
          "data": {
            "text/plain": [
              "array([[ 7.19336823e+02, -5.17676027e+02,  5.60968574e+02, ...,\n",
              "         1.90521107e+01, -1.85060983e+00, -1.12854056e+01],\n",
              "       [ 1.70539033e+03, -2.66338804e+02,  3.32129837e+02, ...,\n",
              "         2.59313616e+01,  1.70255101e+01,  1.63996514e+01],\n",
              "       [ 2.21807332e+03,  4.70724328e+01,  2.11541115e+01, ...,\n",
              "        -4.92595129e+00,  1.36580448e+01,  1.25973923e+01],\n",
              "       ...,\n",
              "       [ 1.97116530e+03, -7.21780966e+02, -6.90089932e+02, ...,\n",
              "        -2.95634384e+01,  5.22279811e+00, -4.05995370e+01],\n",
              "       [ 1.57827604e+03, -2.33523411e+02,  2.39526167e+01, ...,\n",
              "         1.16760489e+01,  1.40681769e+01, -1.93961451e+01],\n",
              "       [ 2.23484806e+03,  1.13948693e+03,  1.50589793e+02, ...,\n",
              "         1.71125787e+01,  2.72789070e+01, -5.85044355e+01]])"
            ]
          },
          "metadata": {},
          "execution_count": 16
        }
      ],
      "source": [
        "# Chọn số chiều r\n",
        "r = 196\n",
        "\n",
        "mnist_labels = [row[0] for row in mnist_data_list_test]  # giử label của các chữ số\n",
        "mnist_image_vectors = [row[1:] for row in mnist_data_list_test]  # Lấy vector ảnh\n",
        "\n",
        "# U, S, V_T\n",
        "U, S, V_T = svd(np.asmatrix(mnist_image_vectors, dtype=int), full_matrices=False)\n",
        "S = np.diag(S)\n",
        "\n",
        "mnist_image_vector_matrix_approx = U[:, :r] @ S[:r, :r]\n",
        "mnist_image_vector_matrix_approx"
      ]
    },
    {
      "cell_type": "code",
      "execution_count": null,
      "metadata": {
        "colab": {
          "base_uri": "https://localhost:8080/"
        },
        "id": "ZEdk0DvfJSJM",
        "outputId": "e2eea69e-3185-4236-f5d3-8efb41a682c0"
      },
      "outputs": [
        {
          "output_type": "stream",
          "name": "stdout",
          "text": [
            "Kích thước ma trận sau khi giảm chiều: (3000, 196)\n"
          ]
        }
      ],
      "source": [
        "print(\"Kích thước ma trận sau khi giảm chiều:\", mnist_image_vector_matrix_approx.shape)\n"
      ]
    },
    {
      "cell_type": "code",
      "execution_count": null,
      "metadata": {
        "id": "VfjPMtpEJ_48"
      },
      "outputs": [],
      "source": [
        "# Kết hợp nhãn với dữ liệu ảnh đã giảm chiều\n",
        "reduced_data = np.column_stack((mnist_labels, mnist_image_vector_matrix_approx))\n",
        "\n",
        "# Lưu dữ liệu đã giảm chiều vào tệp CSV\n",
        "df = pd.DataFrame(reduced_data)\n",
        "df.to_csv('/content/drive/MyDrive/MMD Final/Dataset/mnist_small_test_svd.csv'.format(r), index=False)"
      ]
    },
    {
      "cell_type": "markdown",
      "metadata": {
        "id": "IgfjsnWePsxU"
      },
      "source": [
        "Tái tạo lại ảnh từ tập giảm chiều đề so sánh với yêu yêu cầu 1"
      ]
    },
    {
      "cell_type": "code",
      "execution_count": null,
      "metadata": {
        "colab": {
          "base_uri": "https://localhost:8080/"
        },
        "id": "Pta3gtXNLOaa",
        "outputId": "4c0f6396-e6ba-472b-b8c1-c93448b8122b"
      },
      "outputs": [
        {
          "output_type": "display_data",
          "data": {
            "text/plain": [
              "<Figure size 1000x500 with 15 Axes>"
            ],
            "image/png": "[encoded data removed]"
          },
          "metadata": {}
        }
      ],
      "source": [
        "# Đọc dữ liệu từ tệp CSV đã giảm chiều\n",
        "reduced_data = pd.read_csv('/content/drive/MyDrive/MMD Final/Dataset/mnist_small_test_svd.csv')\n",
        "reduced_images = reduced_data.iloc[:, 1:].values\n",
        "\n",
        "# Tái cấu trúc dữ liệu từ dữ liệu đã giảm chiều\n",
        "reconstructed_data_from_csv = reduced_images @ V_T[:r, :]\n",
        "\n",
        "# Lấy 15 hàng đầu tiên từ dữ liệu tái cấu trúc từ file CSV\n",
        "first_15_rows_reconstructed_from_csv = reconstructed_data_from_csv[:15]\n",
        "\n",
        "# Vẽ biểu đồ 3x5 ô hiển thị 15 bức ảnh đầu tiên từ dữ liệu tái cấu trúc từ file CSV\n",
        "fig, axes = plt.subplots(3, 5, figsize=(10, 5))\n",
        "\n",
        "for i, row in enumerate(first_15_rows_reconstructed_from_csv):\n",
        "    ax = axes[i // 5, i % 5]\n",
        "    ax.imshow(row.reshape(28, 28), cmap='gray')\n",
        "    ax.set_title(f\"Label: {reduced_data.iloc[i, 0]}\")\n",
        "    ax.axis('off')\n",
        "\n",
        "plt.tight_layout()\n",
        "plt.show()\n"
      ]
    },
    {
      "cell_type": "markdown",
      "metadata": {
        "id": "rSCVUBRSxzb6"
      },
      "source": [
        "## Task 3 - Recommendation with Collaborative Filtering"
      ]
    },
    {
      "cell_type": "code",
      "execution_count": null,
      "metadata": {
        "id": "afPJBv6xrBpk"
      },
      "outputs": [],
      "source": [
        "ratings_2k_df = sqlc.read.csv(\"/content/drive/MyDrive/MMD Final/Dataset/ratings2k.csv\", header='true')"
      ]
    },
    {
      "cell_type": "code",
      "execution_count": null,
      "metadata": {
        "colab": {
          "base_uri": "https://localhost:8080/"
        },
        "id": "XvkUJKK5rSnf",
        "outputId": "c9b6caed-25a4-4a99-9b8c-e7172e65a842"
      },
      "outputs": [
        {
          "output_type": "stream",
          "name": "stdout",
          "text": [
            "+-----+----+----+------+\n",
            "|index|user|item|rating|\n",
            "+-----+----+----+------+\n",
            "| 1544|   1| 163|   5.0|\n",
            "|  390|   1| 352|   5.0|\n",
            "|   32|   1| 167|   3.5|\n",
            "| 1188|   1| 168|   5.0|\n",
            "|  130|   1| 422|   3.5|\n",
            "| 2274|   2| 456|   4.5|\n",
            "| 1108|   2| 310|   2.0|\n",
            "| 1949|   2| 148|   1.0|\n",
            "| 2035|   2| 145|   0.5|\n",
            "|  238|   2| 434|   4.0|\n",
            "+-----+----+----+------+\n",
            "\n"
          ]
        }
      ],
      "source": [
        "from pyspark.sql.types import IntegerType, DoubleType, DateType, StructType, StructField, StringType\n",
        "from pyspark.sql.functions import col\n",
        "\n",
        "# Cast columns to appropriate data types\n",
        "ratings_2k_df = ratings_2k_df.withColumn(\"user\", col(\"user\").cast(IntegerType()))\n",
        "ratings_2k_df = ratings_2k_df.withColumn(\"item\", col(\"item\").cast(IntegerType()))\n",
        "ratings_2k_df = ratings_2k_df.withColumn(\"rating\", col(\"rating\").cast(DoubleType()))\n",
        "\n",
        "# Remove duplicates and filter out null ratings\n",
        "ratings_2k_df = ratings_2k_df.dropDuplicates()\n",
        "ratings_2k_df = ratings_2k_df.filter(col(\"rating\").isNotNull())\n",
        "\n",
        "# Sort the dataframe by user\n",
        "ratings_2k_df = ratings_2k_df.sort(col(\"user\"))\n",
        "\n",
        "ratings_2k_df.limit(10).show()"
      ]
    },
    {
      "cell_type": "code",
      "execution_count": null,
      "metadata": {
        "id": "qMweDI3YBXGJ"
      },
      "outputs": [],
      "source": [
        "# Split the ratings data of user into training and test sets\n",
        "(train_recommend, test_recommend) = ratings_2k_df.randomSplit([0.9, 0.1])"
      ]
    },
    {
      "cell_type": "code",
      "execution_count": null,
      "metadata": {
        "colab": {
          "base_uri": "https://localhost:8080/"
        },
        "id": "2ByiTXI7BZMU",
        "outputId": "1bbe7100-3d49-4b5f-bec9-5365fe460d9e"
      },
      "outputs": [
        {
          "output_type": "stream",
          "name": "stdout",
          "text": [
            "+----+--------------------+\n",
            "|user|     recommendations|\n",
            "+----+--------------------+\n",
            "|  31|[{383, 4.610165},...|\n",
            "|  65|[{176, 0.999579},...|\n",
            "|  53|[{26, 7.2327414},...|\n",
            "|  34|[{271, 8.185037},...|\n",
            "|  28|[{42, 8.095174}, ...|\n",
            "|  26|[{35, 9.171745}, ...|\n",
            "|  27|[{44, 8.900645}, ...|\n",
            "|  44|[{439, 4.729614},...|\n",
            "|  12|[{99, 5.169511}, ...|\n",
            "|  22|[{258, 6.820038},...|\n",
            "+----+--------------------+\n",
            "only showing top 10 rows\n",
            "\n"
          ]
        }
      ],
      "source": [
        "# Import the necessary modules\n",
        "from pyspark.ml.recommendation import ALS\n",
        "from pyspark.ml.evaluation import RegressionEvaluator\n",
        "from pyspark.sql.functions import col,lit\n",
        "\n",
        "# Create an ALS model with userCol, itemCol and ratingCol\n",
        "als = ALS(rank=10,\n",
        "          regParam=0.01,\n",
        "          maxIter=5,\n",
        "          userCol=\"user\",\n",
        "          itemCol=\"item\",\n",
        "          ratingCol=\"rating\",\n",
        "          coldStartStrategy=\"drop\",\n",
        "          nonnegative=True)\n",
        "\n",
        "# Fit the model on the train set\n",
        "model = als.fit(train_recommend)\n",
        "\n",
        "# Generate predictions for the test set (remaining users)\n",
        "predictions = model.transform(test_recommend)\n",
        "\n",
        "userRecs = model.recommendForAllUsers(10)\n",
        "userRecs.show(10)"
      ]
    },
    {
      "cell_type": "code",
      "execution_count": null,
      "metadata": {
        "id": "kLIpj-FlQf6s"
      },
      "outputs": [],
      "source": [
        "# user and items ratings - train set\n",
        "ratings_2k_users_df = ratings_2k_df.where((col(\"user\") >= 71) & (col(\"item\") >= 401))"
      ]
    },
    {
      "cell_type": "code",
      "execution_count": null,
      "metadata": {
        "id": "g9H-uDHkzbBf"
      },
      "outputs": [],
      "source": [
        "# Split the ratings data of user into training and test sets\n",
        "(train, test) = ratings_2k_users_df.randomSplit([0.6, 0.4])"
      ]
    },
    {
      "cell_type": "code",
      "execution_count": null,
      "metadata": {
        "colab": {
          "base_uri": "https://localhost:8080/"
        },
        "id": "sLovS_jEvr_6",
        "outputId": "0224dd13-b4c9-4096-eb0a-c7ac0ab085db"
      },
      "outputs": [
        {
          "output_type": "stream",
          "name": "stdout",
          "text": [
            "+-----+----+----+------+----------+\n",
            "|index|user|item|rating|prediction|\n",
            "+-----+----+----+------+----------+\n",
            "| 1585|  72| 412|   3.0|0.38834378|\n",
            "|  299|  73| 417|   3.0|0.19600762|\n",
            "+-----+----+----+------+----------+\n",
            "\n",
            "Mean-square error = 7.341560724092707\n"
          ]
        }
      ],
      "source": [
        "# Fit the model on the train set\n",
        "model = als.fit(train)\n",
        "\n",
        "# Generate predictions for the test set (remaining users)\n",
        "predictions = model.transform(test)\n",
        "\n",
        "# Show predictions\n",
        "predictions.limit(10).show()\n",
        "\n",
        "# Evaluate the model using RMSE metric\n",
        "evaluator_user = RegressionEvaluator(metricName=\"mse\", labelCol=\"rating\", predictionCol=\"prediction\")\n",
        "mse = evaluator_user.evaluate(predictions)\n",
        "print(f\"Mean-square error = {mse}\")"
      ]
    },
    {
      "cell_type": "code",
      "execution_count": null,
      "metadata": {
        "colab": {
          "base_uri": "https://localhost:8080/"
        },
        "id": "Jg7RlUeR1Ybn",
        "outputId": "74480c71-6a2b-482b-be91-2244c51107db"
      },
      "outputs": [
        {
          "output_type": "execute_result",
          "data": {
            "text/plain": [
              "-0.040232749678382654"
            ]
          },
          "metadata": {},
          "execution_count": 27
        }
      ],
      "source": [
        "from pyspark.sql.functions import corr\n",
        "#Calculate Pearson correlation coefficient\n",
        "ratings_2k_df.stat.corr(\"user\", \"rating\")"
      ]
    },
    {
      "cell_type": "markdown",
      "metadata": {
        "id": "GEzWCgKxXsEM"
      },
      "source": [
        "## Task 4 - Stock Price Regression"
      ]
    },
    {
      "cell_type": "code",
      "execution_count": null,
      "metadata": {
        "id": "SdYF6_kA-NU9"
      },
      "outputs": [],
      "source": [
        "stock_hvn_df = sqlc.read.csv('/content/drive/MyDrive/MMD Final/Dataset/stockHVN2022.csv', header='true')"
      ]
    },
    {
      "cell_type": "code",
      "execution_count": null,
      "metadata": {
        "colab": {
          "base_uri": "https://localhost:8080/"
        },
        "id": "4udiUiY1-j26",
        "outputId": "d03df093-2683-474a-9a8d-c91ce99fd597"
      },
      "outputs": [
        {
          "output_type": "stream",
          "name": "stdout",
          "text": [
            "+----------+-----+\n",
            "|      Ngay|  HVN|\n",
            "+----------+-----+\n",
            "|18/11/2022| 9.30|\n",
            "|17/11/2022| 9.42|\n",
            "|16/11/2022| 9.21|\n",
            "|15/11/2022| 8.61|\n",
            "|14/11/2022| 9.25|\n",
            "|11/11/2022| 9.90|\n",
            "|10/11/2022| 9.76|\n",
            "|09/11/2022|10.40|\n",
            "|08/11/2022|10.25|\n",
            "|07/11/2022|10.10|\n",
            "+----------+-----+\n",
            "\n"
          ]
        }
      ],
      "source": [
        "stock_hvn_df.limit(10).show()"
      ]
    },
    {
      "cell_type": "code",
      "execution_count": null,
      "metadata": {
        "id": "TF0wirY7Sl5L"
      },
      "outputs": [],
      "source": [
        "# Convert dataframe to list\n",
        "stock_hvn_list = stock_hvn_df.collect()\n",
        "\n",
        "# Define filter function\n",
        "def is_training(row):\n",
        "    return int(row[0].split(\"/\")[1]) < 7\n",
        "\n",
        "# Split to train and test set using filter function and list comprehension\n",
        "train_list = [row for row in stock_hvn_list if is_training(row)]\n",
        "test_list = [row for row in stock_hvn_list if not is_training(row)]"
      ]
    },
    {
      "cell_type": "code",
      "execution_count": null,
      "metadata": {
        "id": "r46TRevD__qL"
      },
      "outputs": [],
      "source": [
        "# Import necessary modules and create a SparkSession with the name \"CK\"\n",
        "from pyspark.sql import SparkSession\n",
        "spark = SparkSession.builder.appName('CK').getOrCreate()\n",
        "\n",
        "# Create an empty RDD\n",
        "emptyRDD = spark.sparkContext.emptyRDD()\n",
        "\n",
        "# Define the schema for the dataframes\n",
        "schema = StructType([\n",
        "  StructField('5_prev_days', StringType(), True),\n",
        "  StructField('5_prev_days_price', StringType(), True),\n",
        "  StructField('today_price', DoubleType(), True)\n",
        "])"
      ]
    },
    {
      "cell_type": "code",
      "execution_count": null,
      "metadata": {
        "id": "9PFdG0h2__u0"
      },
      "outputs": [],
      "source": [
        "# Create two dataframes with the same schema but no data\n",
        "stock_hvn_train_df = spark.createDataFrame(emptyRDD, schema)\n",
        "stock_hvn_test_df = spark.createDataFrame(emptyRDD, schema)"
      ]
    },
    {
      "cell_type": "code",
      "execution_count": null,
      "metadata": {
        "id": "9SB2Xps_AWQ2"
      },
      "outputs": [],
      "source": [
        "columns = ['5_prev_days', '5_prev_days_price', 'today']\n",
        "# Traing set processing\n",
        "def fill_5_prev_days_price(df, columns, source_list):\n",
        "    \"\"\"\n",
        "    Function Objective: Is used to fill 5 previous days' prices in 1 cell\n",
        "    \"\"\"\n",
        "    new_rows = []\n",
        "    for i in range(len(source_list)-5):\n",
        "        # date\n",
        "        append_date = \",\".join(row[0] for row in source_list[i:i+5])\n",
        "        # price\n",
        "        append_price = \",\".join(row[1] for row in source_list[i:i+5])\n",
        "        # real price\n",
        "        today = source_list[i+5][1]\n",
        "        # Create a new row with the concatenated date and price columns\n",
        "        new_row = (append_date, append_price, today)\n",
        "        new_rows.append(new_row)\n",
        "    # Create a new dataframe with the new rows and add it to the original dataframe\n",
        "    new_df = spark.createDataFrame(new_rows, columns)\n",
        "    df = df.union(new_df)\n",
        "    return df"
      ]
    },
    {
      "cell_type": "code",
      "execution_count": null,
      "metadata": {
        "id": "in2MFu3TAYnt"
      },
      "outputs": [],
      "source": [
        "# Apply the fill_5_prev_days_price function to the training and test dataframes\n",
        "stock_hvn_train_df = fill_5_prev_days_price(stock_hvn_train_df, columns, train_list)\n",
        "stock_hvn_test_df = fill_5_prev_days_price(stock_hvn_test_df, columns, test_list)"
      ]
    },
    {
      "cell_type": "code",
      "execution_count": null,
      "metadata": {
        "id": "PbgPtZ5aAZ3e"
      },
      "outputs": [],
      "source": [
        "from pyspark.sql import functions as f\n",
        "from pyspark.ml.functions import array_to_vector\n",
        "\n",
        "# Convert string to Vector\n",
        "stock_hvn_train_df = stock_hvn_train_df.withColumn(\"5_prev_days_price\", array_to_vector(f.split('5_prev_days_price', ',[ ]*').cast('array<double>')))\n",
        "stock_hvn_test_df = stock_hvn_test_df.withColumn(\"5_prev_days_price\", array_to_vector(f.split('5_prev_days_price', ',[ ]*').cast('array<double>')))\n",
        "# Convert string to Double\n",
        "stock_hvn_train_df = stock_hvn_train_df.withColumn(\"today_price\",f.col(\"today_price\").cast('double'))\n",
        "stock_hvn_test_df = stock_hvn_test_df.withColumn(\"today_price\",f.col(\"today_price\").cast('double'))\n",
        "# Drop column 5_prev_days\n",
        "stock_hvn_train_df = stock_hvn_train_df.drop(col(\"5_prev_days\"))\n",
        "stock_hvn_test_df = stock_hvn_test_df.drop(col(\"5_prev_days\"))"
      ]
    },
    {
      "cell_type": "code",
      "execution_count": null,
      "metadata": {
        "colab": {
          "base_uri": "https://localhost:8080/"
        },
        "id": "nl_aGl9fAa16",
        "outputId": "5d7bb6ba-ef8c-4d19-c7a4-7f010739508b"
      },
      "outputs": [
        {
          "output_type": "stream",
          "name": "stdout",
          "text": [
            "+--------------------+-----------+\n",
            "|   5_prev_days_price|today_price|\n",
            "+--------------------+-----------+\n",
            "|[15.5,16.05,16.5,...|       15.3|\n",
            "|[16.05,16.5,16.3,...|      15.35|\n",
            "|[16.5,16.3,15.25,...|      14.95|\n",
            "|[16.3,15.25,15.3,...|       14.6|\n",
            "|[15.25,15.3,15.35...|       15.6|\n",
            "|[15.3,15.35,14.95...|      16.25|\n",
            "|[15.35,14.95,14.6...|      16.15|\n",
            "|[14.95,14.6,15.6,...|       17.1|\n",
            "|[14.6,15.6,16.25,...|       17.1|\n",
            "|[15.6,16.25,16.15...|       18.0|\n",
            "+--------------------+-----------+\n",
            "\n"
          ]
        }
      ],
      "source": [
        "#Show the first few rows of the training dataframe\n",
        "stock_hvn_train_df.limit(10).show()"
      ]
    },
    {
      "cell_type": "code",
      "execution_count": null,
      "metadata": {
        "colab": {
          "base_uri": "https://localhost:8080/"
        },
        "id": "aqkhafaDAflh",
        "outputId": "9ab84c44-ff4b-40b5-98c1-f08e1e1c3010"
      },
      "outputs": [
        {
          "output_type": "stream",
          "name": "stdout",
          "text": [
            "+--------------------+-----------+\n",
            "|   5_prev_days_price|today_price|\n",
            "+--------------------+-----------+\n",
            "|[9.3,9.42,9.21,8....|        9.9|\n",
            "|[9.42,9.21,8.61,9...|       9.76|\n",
            "|[9.21,8.61,9.25,9...|       10.4|\n",
            "|[8.61,9.25,9.9,9....|      10.25|\n",
            "|[9.25,9.9,9.76,10...|       10.1|\n",
            "|[9.9,9.76,10.4,10...|       10.7|\n",
            "|[9.76,10.4,10.25,...|      10.85|\n",
            "|[10.4,10.25,10.1,...|       10.9|\n",
            "|[10.25,10.1,10.7,...|       10.9|\n",
            "|[10.1,10.7,10.85,...|       10.8|\n",
            "+--------------------+-----------+\n",
            "\n"
          ]
        }
      ],
      "source": [
        "stock_hvn_test_df.limit(10).show()"
      ]
    },
    {
      "cell_type": "code",
      "execution_count": null,
      "metadata": {
        "id": "SS8hM9-FqOmh"
      },
      "outputs": [],
      "source": [
        "stock_hvn_train_df.write.mode('overwrite').parquet('/content/drive/MyDrive/MMD Final/Dataset/train_dataframe.parquet')\n",
        "stock_hvn_test_df.write.mode('overwrite').parquet('/content/drive/MyDrive/MMD Final/Dataset/test_dataframe.parquet')"
      ]
    },
    {
      "cell_type": "code",
      "execution_count": null,
      "metadata": {
        "id": "IEjCmu2PMRWD"
      },
      "outputs": [],
      "source": [
        "from pyspark.ml.regression import LinearRegression, LinearRegressionModel\n",
        "\n",
        "# Creating a Linear Regression object and specifying the feature and label columns\n",
        "lr = LinearRegression(featuresCol='5_prev_days_price', labelCol='today_price')"
      ]
    },
    {
      "cell_type": "code",
      "execution_count": null,
      "metadata": {
        "id": "6gv5mIgbMU0w"
      },
      "outputs": [],
      "source": [
        "# Training the Linear Regression model on the training dataset\n",
        "lr_model = lr.fit(stock_hvn_train_df)\n",
        "\n",
        "# Save the trained model\n",
        "model_path = '/content/drive/MyDrive/MMD Final/Models'\n",
        "lr_model.write().overwrite().save(model_path)"
      ]
    },
    {
      "cell_type": "code",
      "execution_count": null,
      "metadata": {
        "id": "cs9-DtUeSqCF"
      },
      "outputs": [],
      "source": [
        "# Load the saved model\n",
        "lr_model_loaded = LinearRegressionModel.load(model_path)"
      ]
    },
    {
      "cell_type": "code",
      "execution_count": null,
      "metadata": {
        "colab": {
          "base_uri": "https://localhost:8080/"
        },
        "id": "ZMcBQFuzWAPs",
        "outputId": "d3b5b872-0a8c-4198-ff1b-0b34c6fbb017"
      },
      "outputs": [
        {
          "output_type": "stream",
          "name": "stdout",
          "text": [
            "Train prediction\n",
            "+--------------------+------------------+\n",
            "|   5_prev_days_price|        prediction|\n",
            "+--------------------+------------------+\n",
            "|[15.5,16.05,16.5,...| 15.54237094995805|\n",
            "|[16.05,16.5,16.3,...|15.732636961806806|\n",
            "|[16.5,16.3,15.25,...|15.549383516801464|\n",
            "|[16.3,15.25,15.3,...|15.018480621394549|\n",
            "|[15.25,15.3,15.35...|14.897919441472887|\n",
            "|[15.3,15.35,14.95...|15.955105153888548|\n",
            "|[15.35,14.95,14.6...| 16.35176996198033|\n",
            "|[14.95,14.6,15.6,...| 16.27045143430231|\n",
            "|[14.6,15.6,16.25,...|17.550259857457718|\n",
            "|[15.6,16.25,16.15...|17.302119256904334|\n",
            "+--------------------+------------------+\n",
            "\n",
            "Test prediction\n",
            "+--------------------+------------------+\n",
            "|   5_prev_days_price|        prediction|\n",
            "+--------------------+------------------+\n",
            "|[9.3,9.42,9.21,8....| 9.794556489594813|\n",
            "|[9.42,9.21,8.61,9...|10.238932612580003|\n",
            "|[9.21,8.61,9.25,9...|10.008296053501235|\n",
            "|[8.61,9.25,9.9,9....|10.961240836061616|\n",
            "|[9.25,9.9,9.76,10...|10.661777249280872|\n",
            "|[9.9,9.76,10.4,10...|10.492776638356501|\n",
            "|[9.76,10.4,10.25,...|11.235439089213575|\n",
            "|[10.4,10.25,10.1,...| 11.14835422888775|\n",
            "|[10.25,10.1,10.7,...|11.251554132634547|\n",
            "|[10.1,10.7,10.85,...|11.364746251101105|\n",
            "+--------------------+------------------+\n",
            "\n"
          ]
        }
      ],
      "source": [
        "# Using the loaded model to make predictions on the training and test datasets\n",
        "train_preds = lr_model_loaded.transform(stock_hvn_train_df.select('5_prev_days_price'))\n",
        "test_preds = lr_model_loaded.transform(stock_hvn_test_df.select('5_prev_days_price'))\n",
        "\n",
        "# Displaying the predictions of the training dataset\n",
        "print('Train prediction')\n",
        "train_preds.limit(10).show()\n",
        "# Displaying the predictions of the test dataset\n",
        "print('Test prediction')\n",
        "test_preds.limit(10).show()"
      ]
    },
    {
      "cell_type": "code",
      "execution_count": null,
      "metadata": {
        "colab": {
          "base_uri": "https://localhost:8080/"
        },
        "id": "YaiyKqUYZaq4",
        "outputId": "db5c1941-a993-4c45-c76a-f47721a76a19"
      },
      "outputs": [
        {
          "output_type": "stream",
          "name": "stdout",
          "text": [
            "Train Mean Square Error:  0.22674891148810883\n",
            "Test Mean Square Error:  0.14708129147246438\n"
          ]
        }
      ],
      "source": [
        "# Calculating the mean squared error (MSE) of the predictions for the training and test datasets\n",
        "train_mse = lr_model_loaded.evaluate(stock_hvn_train_df)\n",
        "test_mse = lr_model_loaded.evaluate(stock_hvn_test_df)\n",
        "train_mse = train_mse.meanSquaredError\n",
        "test_mse = test_mse.meanSquaredError\n",
        "\n",
        "print('Train Mean Square Error: ',  train_mse)\n",
        "print('Test Mean Square Error: ', test_mse)"
      ]
    },
    {
      "cell_type": "code",
      "execution_count": null,
      "metadata": {
        "colab": {
          "base_uri": "https://localhost:8080/"
        },
        "id": "FOWSiVCoZaA2",
        "outputId": "f7857476-8f23-45fe-9cba-33a6550de37f"
      },
      "outputs": [
        {
          "output_type": "display_data",
          "data": {
            "text/plain": [
              "<Figure size 640x480 with 1 Axes>"
            ],
            "image/png": "[encoded data removed]"
          },
          "metadata": {}
        }
      ],
      "source": [
        "# Visualize mean square errors using a bar chart\n",
        "mse_values = [train_mse, test_mse]\n",
        "labels = ['Training Set', 'Test Set']\n",
        "plt.bar(labels, mse_values)\n",
        "plt.title('Mean Square Errors')\n",
        "plt.xlabel('Dataset')\n",
        "plt.ylabel('MSE')\n",
        "plt.show()"
      ]
    },
    {
      "cell_type": "markdown",
      "metadata": {
        "id": "tP0VxuyzydLa"
      },
      "source": [
        "## Task 5 - Multi-class Classification\n",
        "\n",
        "\n"
      ]
    },
    {
      "cell_type": "markdown",
      "metadata": {
        "id": "RgiVVqOwTpJ2"
      },
      "source": [
        "Multi-layer Perceptron"
      ]
    },
    {
      "cell_type": "code",
      "execution_count": null,
      "metadata": {
        "id": "WuvHxboZXdNO"
      },
      "outputs": [],
      "source": [
        "import math\n",
        "from pyspark.ml.classification import MultilayerPerceptronClassifier\n",
        "from pyspark.ml.evaluation import MulticlassClassificationEvaluator\n",
        "from pyspark.ml.feature import VectorAssembler, Normalizer\n",
        "from pyspark.sql.types import StructType, FloatType\n",
        "\n",
        "def MLB(train, test, r):\n",
        "  imageLabel = ['label']\n",
        "  train_labels = [row[0] for row in train.select(\"_c0\").collect()]\n",
        "  test_labels = [row[0] for row in test.select(\"_c0\").collect()]\n",
        "  for i in range(1,int(math.sqrt(r)) + 1):\n",
        "    for j in range(1,int(math.sqrt(r)) + 1):\n",
        "      imageLabel.append(str(i) + 'x' + str(j))\n",
        "\n",
        "  train = train.toDF(*imageLabel)\n",
        "  test = test.toDF(*imageLabel)\n",
        "  assembler = VectorAssembler(inputCols=train.columns[1:], outputCol='features')\n",
        "  train = assembler.transform(train)\n",
        "  test = assembler.transform(test)\n",
        "\n",
        "  # Define MLP model\n",
        "  layers = [r, 50, 10]\n",
        "  mlp = MultilayerPerceptronClassifier(layers=layers, seed=42)\n",
        "\n",
        "  # Train MLP model\n",
        "  model = mlp.fit(train)\n",
        "\n",
        "  # Evaluate MLP model on test dataset and train dataset\n",
        "  test_predictions = model.transform(test)\n",
        "  train_predictions = model.transform(train)\n",
        "  evaluator = MulticlassClassificationEvaluator(metricName='accuracy')\n",
        "  test_accuracy = evaluator.evaluate(test_predictions)\n",
        "  train_accuracy = evaluator.evaluate(train_predictions)\n",
        "\n",
        "  schema = StructType([\n",
        "    StructField(\"label\", FloatType(), True),\n",
        "    StructField(\"predicted\", FloatType(), True)\n",
        "  ])\n",
        "\n",
        "  print(\"Train Prediction\")\n",
        "  train_predicted = train_predictions.select(\"prediction\").rdd.map(lambda x: x[0]).collect()\n",
        "  train_label_predicted = [(train_labels[i], train_predicted[i]) for i in range(len(train_predicted))]\n",
        "  train_label_predicted_df = spark.createDataFrame(train_label_predicted, schema=schema)\n",
        "  train_label_predicted_df.show(5)\n",
        "\n",
        "  print(\"Test Prediction\")\n",
        "  test_predicted = test_predictions.select(\"prediction\").rdd.map(lambda x: x[0]).collect()\n",
        "  test_label_predicted = [(test_labels[i], test_predicted[i]) for i in range(len(test_predicted))]\n",
        "  test_label_predicted_df = spark.createDataFrame(test_label_predicted, schema=schema)\n",
        "  test_label_predicted_df.show(5)\n",
        "\n",
        "  return [round(train_accuracy * 100, 2), round(test_accuracy * 100, 2)]"
      ]
    },
    {
      "cell_type": "markdown",
      "metadata": {
        "id": "OLgxcBJNVLLJ"
      },
      "source": [
        "Random Forest\n"
      ]
    },
    {
      "cell_type": "code",
      "execution_count": null,
      "metadata": {
        "id": "Ov3ZNoxKeKy_"
      },
      "outputs": [],
      "source": [
        "from pyspark.sql import SparkSession\n",
        "from pyspark.ml.feature import VectorAssembler\n",
        "from pyspark.ml.classification import RandomForestClassifier\n",
        "from pyspark.ml.evaluation import MulticlassClassificationEvaluator\n",
        "\n",
        "def RandomForest(train, test, r):\n",
        "  imageLabel = ['label']\n",
        "  train_labels = [row[0] for row in train.select(\"_c0\").collect()]\n",
        "  test_labels = [row[0] for row in test.select(\"_c0\").collect()]\n",
        "  for i in range(1,int(math.sqrt(r)) + 1):\n",
        "    for j in range(1,int(math.sqrt(r)) + 1):\n",
        "      imageLabel.append(str(i) + 'x' + str(j))\n",
        "\n",
        "  train = train.toDF(*imageLabel)\n",
        "  test = test.toDF(*imageLabel)\n",
        "\n",
        "  # Split the dataset into training and test sets\n",
        "  train_df = train\n",
        "  test_df = test\n",
        "\n",
        "  # Define the input and output columns\n",
        "  input_cols = train.columns[1:]\n",
        "  output_col = \"label\"\n",
        "\n",
        "  # Vectorize the input columns\n",
        "  assembler = VectorAssembler(inputCols=input_cols, outputCol=\"features\")\n",
        "  train_vector_df = assembler.transform(train_df)\n",
        "  test_vector_df = assembler.transform(test_df)\n",
        "\n",
        "  # Train the random forest model\n",
        "  rf = RandomForestClassifier(numTrees=10, maxDepth=10, seed=42)\n",
        "  rf_model = rf.fit(train_vector_df)\n",
        "\n",
        "  # Make predictions on the test set\n",
        "  train_predictions_df = rf_model.transform(train_vector_df)\n",
        "  test_predictions_df = rf_model.transform(test_vector_df)\n",
        "  # Evaluate the model using accuracy\n",
        "  evaluator = MulticlassClassificationEvaluator(labelCol=output_col, predictionCol=\"prediction\", metricName=\"accuracy\")\n",
        "  train_accuracy = evaluator.evaluate(train_predictions_df)\n",
        "  test_accuracy = evaluator.evaluate(test_predictions_df)\n",
        "\n",
        "  schema = StructType([\n",
        "    StructField(\"label\", FloatType(), True),\n",
        "    StructField(\"predicted\", FloatType(), True)\n",
        "  ])\n",
        "\n",
        "  print(\"Train Prediction\")\n",
        "  train_predicted = train_predictions_df.select(\"prediction\").rdd.map(lambda x: x[0]).collect()\n",
        "  train_label_predicted = [(train_labels[i], train_predicted[i]) for i in range(len(train_predicted))]\n",
        "  train_label_predicted_df = spark.createDataFrame(train_label_predicted, schema=schema)\n",
        "  train_label_predicted_df.show(5)\n",
        "\n",
        "  print(\"Test Prediction\")\n",
        "  test_predicted = test_predictions_df.select(\"prediction\").rdd.map(lambda x: x[0]).collect()\n",
        "  test_label_predicted = [(test_labels[i], test_predicted[i]) for i in range(len(test_predicted))]\n",
        "  test_label_predicted_df = spark.createDataFrame(test_label_predicted, schema=schema)\n",
        "  test_label_predicted_df.show(5)\n",
        "\n",
        "  return [round(train_accuracy * 100, 2), round(test_accuracy * 100, 2)]\n"
      ]
    },
    {
      "cell_type": "markdown",
      "metadata": {
        "id": "I_tkmTdvO1aY"
      },
      "source": [
        "Linear Support Vector Machine"
      ]
    },
    {
      "cell_type": "code",
      "execution_count": null,
      "metadata": {
        "id": "k0CoDTabgg0o"
      },
      "outputs": [],
      "source": [
        "from pyspark.ml.feature import VectorAssembler\n",
        "from pyspark.ml.classification import LinearSVC\n",
        "from pyspark.ml.classification import OneVsRest\n",
        "from pyspark.ml.evaluation import MulticlassClassificationEvaluator\n",
        "\n",
        "def LSVM(train, test, r):\n",
        "  imageLabel = ['label']\n",
        "  train_labels = [row[0] for row in train.select(\"_c0\").collect()]\n",
        "  test_labels = [row[0] for row in test.select(\"_c0\").collect()]\n",
        "  for i in range(1,int(math.sqrt(r)) + 1):\n",
        "    for j in range(1,int(math.sqrt(r)) + 1):\n",
        "      imageLabel.append(str(i) + 'x' + str(j))\n",
        "\n",
        "  train = train.toDF(*imageLabel)\n",
        "  test = test.toDF(*imageLabel)\n",
        "\n",
        "\n",
        "  assembler = VectorAssembler(inputCols=train.columns[1:], outputCol='features')\n",
        "  train_data = assembler.transform(train)\n",
        "  test_data = assembler.transform(test)\n",
        "\n",
        "  svm = LinearSVC(maxIter=10, regParam=0.1)\n",
        "\n",
        "  ovr = OneVsRest(classifier=svm, labelCol='label')\n",
        "  ovr_model = ovr.fit(train_data)\n",
        "\n",
        "  train_predictions = ovr_model.transform(train_data)\n",
        "  test_predictions = ovr_model.transform(test_data)\n",
        "\n",
        "\n",
        "  evaluator = MulticlassClassificationEvaluator(labelCol='label')\n",
        "  train_accuracy = evaluator.evaluate(train_predictions, {evaluator.metricName: 'accuracy'})\n",
        "  test_accuracy = evaluator.evaluate(test_predictions, {evaluator.metricName: 'accuracy'})\n",
        "\n",
        "  schema = StructType([\n",
        "    StructField(\"label\", FloatType(), True),\n",
        "    StructField(\"predicted\", FloatType(), True)\n",
        "  ])\n",
        "\n",
        "  print(\"Train Prediction\")\n",
        "  train_predicted = train_predictions.select(\"prediction\").rdd.map(lambda x: x[0]).collect()\n",
        "  train_label_predicted = [(train_labels[i], train_predicted[i]) for i in range(len(train_predicted))]\n",
        "  train_label_predicted_df = spark.createDataFrame(train_label_predicted, schema=schema)\n",
        "  train_label_predicted_df.show(5)\n",
        "\n",
        "  print(\"Test Prediction\")\n",
        "  test_predicted = test_predictions.select(\"prediction\").rdd.map(lambda x: x[0]).collect()\n",
        "  test_label_predicted = [(test_labels[i], test_predicted[i]) for i in range(len(test_predicted))]\n",
        "  test_label_predicted_df = spark.createDataFrame(test_label_predicted, schema=schema)\n",
        "  test_label_predicted_df.show(5)\n",
        "\n",
        "  return [round(train_accuracy * 100, 2), round(test_accuracy * 100, 2)]\n",
        "\n"
      ]
    },
    {
      "cell_type": "code",
      "execution_count": null,
      "metadata": {
        "id": "nDoMCTuDlSdc"
      },
      "outputs": [],
      "source": [
        "# Mnist Small Test Dataframe for Multi-layer Perceptron\n",
        "mnist_small_test_df = sqlc.read.csv(\"/content/drive/MyDrive/MMD Final/Dataset/mnist_small_test.csv\", header=False, inferSchema=True)\n",
        "mnist_small_test_df = mnist_small_test_df.select([col(c).cast(\"double\") for c in mnist_small_test_df.columns])\n",
        "\n",
        "# Mnist Small Train Dataframe for Multi-layer Perceptron\n",
        "mnist_small_train_df = sqlc.read.csv(\"/content/drive/MyDrive/MMD Final/Dataset/mnist_small_train.csv\", header=False, inferSchema=True)\n",
        "mnist_small_train_df = mnist_small_train_df.select([col(c).cast(\"double\") for c in mnist_small_train_df.columns])\n",
        "\n",
        "# Mnist Small Train SVD for Multi-layer Perceptron\n",
        "mnist_small_train_SVD_df = sqlc.read.csv(\"/content/drive/MyDrive/MMD Final/Dataset/mnist_small_train_svd.csv\", header=False, inferSchema=True)\n",
        "mnist_small_train_SVD_df = mnist_small_train_SVD_df.rdd.zipWithIndex().filter(lambda x: x[1] > 0).map(lambda x: x[0]).toDF(mnist_small_train_SVD_df.columns)\n",
        "mnist_small_train_SVD_df = mnist_small_train_SVD_df.select([col(c).cast(\"double\") for c in mnist_small_train_SVD_df.columns])\n",
        "\n",
        "# Mnist Small Test SVD for Multi-layer Perceptron\n",
        "mnist_small_test_SVD_df = sqlc.read.csv(\"/content/drive/MyDrive/MMD Final/Dataset/mnist_small_test_svd.csv\", header=False, inferSchema=True)\n",
        "mnist_small_test_SVD_df = mnist_small_test_SVD_df.rdd.zipWithIndex().filter(lambda x: x[1] > 0).map(lambda x: x[0]).toDF(mnist_small_test_SVD_df.columns)\n",
        "mnist_small_test_SVD_df = mnist_small_test_SVD_df.select([col(c).cast(\"double\") for c in mnist_small_test_SVD_df.columns])"
      ]
    },
    {
      "cell_type": "code",
      "execution_count": null,
      "metadata": {
        "colab": {
          "base_uri": "https://localhost:8080/"
        },
        "id": "V1CxOj58M0_l",
        "outputId": "94e493ee-f903-4f52-a428-2215db113743"
      },
      "outputs": [
        {
          "output_type": "stream",
          "name": "stdout",
          "text": [
            "MLB Prediction for MNIST Small\n",
            "Train Prediction\n",
            "+-----+---------+\n",
            "|label|predicted|\n",
            "+-----+---------+\n",
            "|  7.0|      7.0|\n",
            "|  2.0|      2.0|\n",
            "|  1.0|      1.0|\n",
            "|  0.0|      0.0|\n",
            "|  4.0|      4.0|\n",
            "+-----+---------+\n",
            "only showing top 5 rows\n",
            "\n",
            "Test Prediction\n",
            "+-----+---------+\n",
            "|label|predicted|\n",
            "+-----+---------+\n",
            "|  1.0|      1.0|\n",
            "|  2.0|      2.0|\n",
            "|  2.0|      2.0|\n",
            "|  5.0|      5.0|\n",
            "|  8.0|      8.0|\n",
            "+-----+---------+\n",
            "only showing top 5 rows\n",
            "\n",
            "MLB Prediction for MNIST Small SVD\n",
            "Train Prediction\n",
            "+-----+---------+\n",
            "|label|predicted|\n",
            "+-----+---------+\n",
            "|  7.0|      7.0|\n",
            "|  2.0|      2.0|\n",
            "|  1.0|      1.0|\n",
            "|  0.0|      0.0|\n",
            "|  4.0|      4.0|\n",
            "+-----+---------+\n",
            "only showing top 5 rows\n",
            "\n",
            "Test Prediction\n",
            "+-----+---------+\n",
            "|label|predicted|\n",
            "+-----+---------+\n",
            "|  1.0|      7.0|\n",
            "|  2.0|      9.0|\n",
            "|  2.0|      8.0|\n",
            "|  5.0|      2.0|\n",
            "|  8.0|      4.0|\n",
            "+-----+---------+\n",
            "only showing top 5 rows\n",
            "\n",
            "Random Forest Prediction for MNIST Small\n",
            "Train Prediction\n",
            "+-----+---------+\n",
            "|label|predicted|\n",
            "+-----+---------+\n",
            "|  7.0|      7.0|\n",
            "|  2.0|      2.0|\n",
            "|  1.0|      1.0|\n",
            "|  0.0|      0.0|\n",
            "|  4.0|      4.0|\n",
            "+-----+---------+\n",
            "only showing top 5 rows\n",
            "\n",
            "Test Prediction\n",
            "+-----+---------+\n",
            "|label|predicted|\n",
            "+-----+---------+\n",
            "|  1.0|      1.0|\n",
            "|  2.0|      2.0|\n",
            "|  2.0|      8.0|\n",
            "|  5.0|      3.0|\n",
            "|  8.0|      8.0|\n",
            "+-----+---------+\n",
            "only showing top 5 rows\n",
            "\n",
            "Random Forest Prediction for MNIST Small SVD\n",
            "Train Prediction\n",
            "+-----+---------+\n",
            "|label|predicted|\n",
            "+-----+---------+\n",
            "|  7.0|      7.0|\n",
            "|  2.0|      2.0|\n",
            "|  1.0|      1.0|\n",
            "|  0.0|      0.0|\n",
            "|  4.0|      4.0|\n",
            "+-----+---------+\n",
            "only showing top 5 rows\n",
            "\n",
            "Test Prediction\n",
            "+-----+---------+\n",
            "|label|predicted|\n",
            "+-----+---------+\n",
            "|  1.0|      7.0|\n",
            "|  2.0|      9.0|\n",
            "|  2.0|      8.0|\n",
            "|  5.0|      4.0|\n",
            "|  8.0|      2.0|\n",
            "+-----+---------+\n",
            "only showing top 5 rows\n",
            "\n",
            "Linear Support Vector Machine Prediction for MNIST Small \n",
            "Train Prediction\n",
            "+-----+---------+\n",
            "|label|predicted|\n",
            "+-----+---------+\n",
            "|  7.0|      7.0|\n",
            "|  2.0|      2.0|\n",
            "|  1.0|      1.0|\n",
            "|  0.0|      0.0|\n",
            "|  4.0|      4.0|\n",
            "+-----+---------+\n",
            "only showing top 5 rows\n",
            "\n",
            "Test Prediction\n",
            "+-----+---------+\n",
            "|label|predicted|\n",
            "+-----+---------+\n",
            "|  1.0|      1.0|\n",
            "|  2.0|      2.0|\n",
            "|  2.0|      2.0|\n",
            "|  5.0|      3.0|\n",
            "|  8.0|      8.0|\n",
            "+-----+---------+\n",
            "only showing top 5 rows\n",
            "\n",
            "Linear Support Vector Machine Prediction for MNIST Small SVD\n",
            "Train Prediction\n",
            "+-----+---------+\n",
            "|label|predicted|\n",
            "+-----+---------+\n",
            "|  7.0|      7.0|\n",
            "|  2.0|      2.0|\n",
            "|  1.0|      1.0|\n",
            "|  0.0|      0.0|\n",
            "|  4.0|      4.0|\n",
            "+-----+---------+\n",
            "only showing top 5 rows\n",
            "\n",
            "Test Prediction\n",
            "+-----+---------+\n",
            "|label|predicted|\n",
            "+-----+---------+\n",
            "|  1.0|      7.0|\n",
            "|  2.0|      4.0|\n",
            "|  2.0|      0.0|\n",
            "|  5.0|      4.0|\n",
            "|  8.0|      7.0|\n",
            "+-----+---------+\n",
            "only showing top 5 rows\n",
            "\n"
          ]
        }
      ],
      "source": [
        "# Get Multi-layer Perceptron Accuracy\n",
        "print(\"MLB Prediction for MNIST Small\")\n",
        "MLB_Accuracy = MLB(mnist_small_train_df, mnist_small_test_df, 784)\n",
        "print(\"MLB Prediction for MNIST Small SVD\")\n",
        "MLB_SVD_Accuracy = MLB(mnist_small_train_SVD_df, mnist_small_test_SVD_df, 196)\n",
        "\n",
        "# Get Random Forest Accuracy\n",
        "print(\"Random Forest Prediction for MNIST Small\")\n",
        "RF_Accuracy = RandomForest(mnist_small_train_df, mnist_small_test_df, 784)\n",
        "print(\"Random Forest Prediction for MNIST Small SVD\")\n",
        "RF_SVD_Accuracy = RandomForest(mnist_small_train_SVD_df, mnist_small_test_SVD_df, 196)\n",
        "\n",
        "# Get Linear Support Vector Machine Accuracy\n",
        "print(\"Linear Support Vector Machine Prediction for MNIST Small \")\n",
        "LSVM_Accuracy = LSVM(mnist_small_train_df, mnist_small_test_df, 784)\n",
        "print(\"Linear Support Vector Machine Prediction for MNIST Small SVD\")\n",
        "LSVM_SVD_Accuracy = LSVM(mnist_small_train_SVD_df, mnist_small_test_SVD_df, 196)"
      ]
    },
    {
      "cell_type": "markdown",
      "metadata": {
        "id": "C1fH7O16FnAW"
      },
      "source": [
        "Draw Chart"
      ]
    },
    {
      "cell_type": "code",
      "execution_count": null,
      "metadata": {
        "colab": {
          "base_uri": "https://localhost:8080/"
        },
        "id": "ts8D1uOjFmbM",
        "outputId": "c9488ce1-f492-4bb9-cc7c-ab7a6841820b"
      },
      "outputs": [
        {
          "output_type": "stream",
          "name": "stdout",
          "text": [
            "90.43 89.93 90.43 13.37\n",
            "98.2 91.93 95.16 9.63\n",
            "86.11 86.47 86.77 10.4\n"
          ]
        },
        {
          "output_type": "execute_result",
          "data": {
            "text/plain": [
              "<function matplotlib.pyplot.show(close=None, block=None)>"
            ]
          },
          "metadata": {},
          "execution_count": 50
        },
        {
          "output_type": "display_data",
          "data": {
            "text/plain": [
              "<Figure size 640x480 with 1 Axes>"
            ],
            "image/png": "[encoded data removed]"
          },
          "metadata": {}
        }
      ],
      "source": [
        "import matplotlib.pyplot as plt\n",
        "import numpy as np\n",
        "\n",
        "data1 = [MLB_Accuracy[0], RF_Accuracy[0], LSVM_Accuracy[0]]\n",
        "data2 = [MLB_Accuracy[1], RF_Accuracy[1], LSVM_Accuracy[1]]\n",
        "data3 = [MLB_SVD_Accuracy[0], RF_SVD_Accuracy[0], LSVM_SVD_Accuracy[0]]\n",
        "data4 = [MLB_SVD_Accuracy[1], RF_SVD_Accuracy[1], LSVM_SVD_Accuracy[1]]\n",
        "\n",
        "\n",
        "for i in range(0,3):\n",
        "  print(data1[i], data2[i], data3[i], data4[i])\n",
        "\n",
        "labels = ['Multi-layer Perceptron', 'Random Forest', 'Linear Support Vector Machine']\n",
        "\n",
        "width = 0.15\n",
        "\n",
        "x1 = np.arange(len(data1))\n",
        "x2 = [x + width for x in x1]\n",
        "x3 = [x + width for x in x2]\n",
        "x4 = [x + width for x in x3]\n",
        "\n",
        "plt.bar(x1, data1, width=width, label='Training')\n",
        "plt.bar(x2, data2, width=width, label='Test')\n",
        "plt.bar(x3, data3, width=width, label='Training SVD')\n",
        "plt.bar(x4, data4, width=width, label='Test SVD')\n",
        "\n",
        "plt.xlabel('Models')\n",
        "plt.ylabel('%')\n",
        "plt.title('Quartet-Bar Chart')\n",
        "\n",
        "plt.xticks([x + width for x in range(len(data1))], labels)\n",
        "\n",
        "plt.legend()\n",
        "\n",
        "plt.show\n"
      ]
    }
  ],
  "metadata": {
    "colab": {
      "collapsed_sections": [
        "j_a5qwBOyGeN",
        "tfimc2N-XEQq",
        "rSCVUBRSxzb6",
        "GEzWCgKxXsEM",
        "tP0VxuyzydLa"
      ],
      "provenance": []
    },
    "gpuClass": "standard",
    "kernelspec": {
      "display_name": "Python 3",
      "name": "python3"
    },
    "language_info": {
      "name": "python"
    }
  },
  "nbformat": 4,
  "nbformat_minor": 0
}